{
  "nbformat": 4,
  "nbformat_minor": 0,
  "metadata": {
    "colab": {
      "provenance": []
    },
    "kernelspec": {
      "name": "python3",
      "display_name": "Python 3"
    },
    "language_info": {
      "name": "python"
    }
  },
  "cells": [
    {
      "cell_type": "markdown",
      "source": [
        "#**Exercises 05**\n",
        "*  **Tuple**"
      ],
      "metadata": {
        "id": "IQxzD9xl9T5C"
      }
    },
    {
      "cell_type": "markdown",
      "source": [
        "**Exercise 01**"
      ],
      "metadata": {
        "id": "XueOHHPi997h"
      }
    },
    {
      "cell_type": "markdown",
      "source": [
        ">Create an empty tuple\n",
        "\n",
        ">Create a tuple containing names of your sisters and your brothers, separately (imaginary siblings are fine)\n",
        "\n",
        "> Join brothers and sisters tuples and assign it to siblings\n",
        "\n",
        "> How many siblings do you have?\n",
        "\n",
        "> Modify the siblings tuple and add the name of your father and mother and assign it to family_members\n"
      ],
      "metadata": {
        "id": "MSj3eyWK-NTk"
      }
    },
    {
      "cell_type": "markdown",
      "source": [
        "***Create an empty tuple:***"
      ],
      "metadata": {
        "id": "oc9rFRCk_eFp"
      }
    },
    {
      "cell_type": "code",
      "source": [
        "tupl=()"
      ],
      "metadata": {
        "id": "LCDfN9wg_ukH"
      },
      "execution_count": 115,
      "outputs": []
    },
    {
      "cell_type": "markdown",
      "source": [
        "**Create a tuple containing names of your sisters and your brothers, separately (imaginary siblings are fine)**"
      ],
      "metadata": {
        "id": "VB5gZEojBhPQ"
      }
    },
    {
      "cell_type": "code",
      "source": [
        "sisters=('Munira', 'Zainab', 'Asiya', 'Leila',)\n",
        "broders=('Mahmoud', 'Mahdi', 'Ali' ,'Hossein',)\n",
        "type(sisters)\n",
        "type(broders)"
      ],
      "metadata": {
        "id": "zTwrzz5aByrr",
        "colab": {
          "base_uri": "https://localhost:8080/"
        },
        "outputId": "b5a38d83-6dfa-4377-91a5-860899127951"
      },
      "execution_count": 126,
      "outputs": [
        {
          "output_type": "execute_result",
          "data": {
            "text/plain": [
              "tuple"
            ]
          },
          "metadata": {},
          "execution_count": 126
        }
      ]
    },
    {
      "cell_type": "markdown",
      "source": [
        "**Join brothers and sisters tuples and assign it to siblings**"
      ],
      "metadata": {
        "id": "_zGcjNtqDIiZ"
      }
    },
    {
      "cell_type": "code",
      "source": [
        "siblings =sisters+broders\n",
        "print('Brothers and sisters {}' .format(siblings))"
      ],
      "metadata": {
        "colab": {
          "base_uri": "https://localhost:8080/"
        },
        "id": "c2nuIsffDVZ8",
        "outputId": "75f087af-d1d6-4b14-8a0a-c5a5f5b008eb"
      },
      "execution_count": 117,
      "outputs": [
        {
          "output_type": "stream",
          "name": "stdout",
          "text": [
            "Brothers and sisters ('Munira', 'Zainab', 'Asiya', 'Leila', 'Mahmoud', 'Mahdi', 'Ali', 'Hossein')\n"
          ]
        }
      ]
    },
    {
      "cell_type": "markdown",
      "source": [
        "**How many siblings do you have?**"
      ],
      "metadata": {
        "id": "8mzutII2Ea-w"
      }
    },
    {
      "cell_type": "code",
      "source": [
        "number_siblings=len(siblings)\n",
        "print('Number Siblings= {}'.format(number_siblings))"
      ],
      "metadata": {
        "colab": {
          "base_uri": "https://localhost:8080/"
        },
        "id": "w1keNnpZDtnk",
        "outputId": "bdfea8e3-ce22-4c43-a3c7-9b76382d00d2"
      },
      "execution_count": 118,
      "outputs": [
        {
          "output_type": "stream",
          "name": "stdout",
          "text": [
            "Number Siblings= 8\n"
          ]
        }
      ]
    },
    {
      "cell_type": "markdown",
      "source": [
        "**Modify the siblings tuple and add the name of your father and mother and assign it to family_members**"
      ],
      "metadata": {
        "id": "FUPYp2MCKNxK"
      }
    },
    {
      "cell_type": "code",
      "source": [
        "family_members=('Adam','Eve',)+siblings\n",
        "print('family_members= {}'.format(family_members))"
      ],
      "metadata": {
        "colab": {
          "base_uri": "https://localhost:8080/"
        },
        "id": "6eE31KyIFEzD",
        "outputId": "8d5cec08-9d4c-47c3-c9cf-f615be5a64a1"
      },
      "execution_count": 119,
      "outputs": [
        {
          "output_type": "stream",
          "name": "stdout",
          "text": [
            "family_members= ('Adam', 'Eve', 'Munira', 'Zainab', 'Asiya', 'Leila', 'Mahmoud', 'Mahdi', 'Ali', 'Hossein')\n"
          ]
        }
      ]
    },
    {
      "cell_type": "markdown",
      "source": [
        "**Exercise 02**"
      ],
      "metadata": {
        "id": "t_mhtSABNEKZ"
      }
    },
    {
      "cell_type": "markdown",
      "source": [
        "\n",
        "\n",
        "> Create fruits, vegetables and animal products tuples, separately.\n",
        "\n",
        ">Join the above three tuples and assign it to a variable called food_stuff_tp\n",
        "\n",
        ">Change the about food_stuff_tp tuple to a food_stuff_lt list\n",
        "\n",
        "> Slice out the middle item of items from the food_stuff_tp tuple or food_stuff_lt list.\n",
        "\n",
        "\n",
        "> Slice out the middle item of items from the food_stuff_tp tuple or food_stuff_lt list.\n",
        "\n",
        "> Delete the food_staff_tp tuple completely\n"
      ],
      "metadata": {
        "id": "GM9nH6HENOk_"
      }
    },
    {
      "cell_type": "markdown",
      "source": [
        "**Create fruits, vegetables and animal products tuples, separately.**"
      ],
      "metadata": {
        "id": "59atY-cACePi"
      }
    },
    {
      "cell_type": "code",
      "source": [
        "firuits=('Apple','Orange', 'lemon', 'cucumber',)\n",
        "vegetables=('Tarragon', 'tomato', 'onion', 'potato,')\n",
        "animal=('Dog', 'cat', 'fox', 'bear',)\n"
      ],
      "metadata": {
        "id": "zLghjT1DAvec"
      },
      "execution_count": 120,
      "outputs": []
    },
    {
      "cell_type": "markdown",
      "source": [
        "**Join the above three tuples and assign it to a variable called food_stuff_tp**"
      ],
      "metadata": {
        "id": "blLpfYwaCqGo"
      }
    },
    {
      "cell_type": "code",
      "source": [
        "food_stuff_tp=firuits+vegetables+animal\n",
        "print('Join the above three tuples = {}' .format(food_stuff_tp))"
      ],
      "metadata": {
        "colab": {
          "base_uri": "https://localhost:8080/"
        },
        "id": "JP30QVdBCuWq",
        "outputId": "2b59296b-141e-43f6-d457-965c0334dace"
      },
      "execution_count": 121,
      "outputs": [
        {
          "output_type": "stream",
          "name": "stdout",
          "text": [
            "Join the above three tuples = ('Apple', 'Orange', 'lemon', 'cucumber', 'Tarragon', 'tomato', 'onion', 'potato,', 'Dog', 'cat', 'fox', 'bear')\n"
          ]
        }
      ]
    },
    {
      "cell_type": "markdown",
      "source": [
        "**Change the about food_stuff_tp tuple to a food_stuff_lt list**"
      ],
      "metadata": {
        "id": "DMHCbLo3Dkg4"
      }
    },
    {
      "cell_type": "code",
      "source": [
        "list_food_stuff_tp=list(food_stuff_tp)\n",
        "type(list_food_stuff_tp)"
      ],
      "metadata": {
        "colab": {
          "base_uri": "https://localhost:8080/"
        },
        "id": "If1eDWxsDS8G",
        "outputId": "1143be65-8ba4-475b-f895-7716ef055c5a"
      },
      "execution_count": 122,
      "outputs": [
        {
          "output_type": "execute_result",
          "data": {
            "text/plain": [
              "list"
            ]
          },
          "metadata": {},
          "execution_count": 122
        }
      ]
    },
    {
      "cell_type": "markdown",
      "source": [
        "**Slice out the middle item of items from the food_stuff_tp tuple or food_stuff_lt list.**"
      ],
      "metadata": {
        "id": "JuqMbBxHKTsQ"
      }
    },
    {
      "cell_type": "code",
      "source": [
        "#slice out the middle tuple\n",
        "def findMiddle(input_list):\n",
        "    len_ = int(len(input_list))\n",
        "    middle=len_/2\n",
        "    if len_ % 2 != 0:\n",
        "        return input_list[int(middle)]\n",
        "    else:\n",
        "        return (input_list[int(middle)], input_list[int(middle-1)])\n"
      ],
      "metadata": {
        "id": "cRGPW0iRL756"
      },
      "execution_count": 123,
      "outputs": []
    },
    {
      "cell_type": "code",
      "source": [
        "print(food_stuff_tp)\n",
        "print()\n",
        "print('slice out the middle tuple= ',findMiddle(food_stuff_tp))"
      ],
      "metadata": {
        "colab": {
          "base_uri": "https://localhost:8080/"
        },
        "id": "sB03eLFFP0Wb",
        "outputId": "e355c547-2a60-4e4d-ebc7-da92e4eb74cc"
      },
      "execution_count": 124,
      "outputs": [
        {
          "output_type": "stream",
          "name": "stdout",
          "text": [
            "('Apple', 'Orange', 'lemon', 'cucumber', 'Tarragon', 'tomato', 'onion', 'potato,', 'Dog', 'cat', 'fox', 'bear')\n",
            "\n",
            "slice out the middle tuple=  ('onion', 'tomato')\n"
          ]
        }
      ]
    },
    {
      "cell_type": "markdown",
      "source": [
        "**Delete the food_staff_tp tuple completely**"
      ],
      "metadata": {
        "id": "XZ6vsJ07VMmR"
      }
    },
    {
      "cell_type": "code",
      "source": [
        "#tuple conver list and clear\n",
        "list_food_stuff_tp=list(food_stuff_tp)\n",
        "print(list_food_stuff_tp)\n",
        "print()\n",
        "list_food_stuff_tp.clear()\n",
        "print('list it is Empty=' ,list_food_stuff_tp)\n"
      ],
      "metadata": {
        "id": "Tw4_BitWVSIR",
        "colab": {
          "base_uri": "https://localhost:8080/"
        },
        "outputId": "91cace42-efb4-46f0-9409-a19f66e34d39"
      },
      "execution_count": 177,
      "outputs": [
        {
          "output_type": "stream",
          "name": "stdout",
          "text": [
            "['Apple', 'Orange', 'lemon', 'cucumber', 'Tarragon', 'tomato', 'onion', 'potato,', 'Dog', 'cat', 'fox', 'bear']\n",
            "\n",
            "list it is Empty= []\n"
          ]
        }
      ]
    },
    {
      "cell_type": "markdown",
      "source": [
        "**Exercise 03**"
      ],
      "metadata": {
        "id": "Z6hq5Krsw8R7"
      }
    },
    {
      "cell_type": "markdown",
      "source": [
        "\n",
        "\n",
        ">Check if 'Estonia' is a nordic country, print True, Otherwise print False!\n",
        "\n",
        "> Check if 'Iceland' is a nordic country, print True, Otherwise print False!\n",
        "\n",
        "> nordic_countries = ('Denmark', 'Finland','Iceland', 'Norway', 'Sweden')\n"
      ],
      "metadata": {
        "id": "6PRTmlAAxNCS"
      }
    },
    {
      "cell_type": "code",
      "source": [
        "nordic_countries = ('Denmark', 'Finland','Iceland', 'Norway', 'Sweden',)"
      ],
      "metadata": {
        "id": "eQjpHsitx_op"
      },
      "execution_count": 165,
      "outputs": []
    },
    {
      "cell_type": "code",
      "source": [
        "def find_Tuple(Name,Tuple_):\n",
        "  if Name in Tuple_:\n",
        "   print('Yes it is {} in list {}'.format(Name, Tuple_))\n",
        "\n",
        "  else: print('No it is {} in list {}'.format(Name, Tuple_))\n"
      ],
      "metadata": {
        "id": "aT5K7OEw1h1j"
      },
      "execution_count": 172,
      "outputs": []
    },
    {
      "cell_type": "code",
      "source": [
        "find_Tuple('Estonia',nordic_countries)"
      ],
      "metadata": {
        "colab": {
          "base_uri": "https://localhost:8080/"
        },
        "id": "LhNsaEv-2mxa",
        "outputId": "7b5dce14-6b8b-4e45-d977-b984c90639b3"
      },
      "execution_count": 173,
      "outputs": [
        {
          "output_type": "stream",
          "name": "stdout",
          "text": [
            "No it is Estonia in list ('Denmark', 'Finland', 'Iceland', 'Norway', 'Sweden')\n"
          ]
        }
      ]
    },
    {
      "cell_type": "code",
      "source": [
        "find_Tuple('Iceland',nordic_countries)"
      ],
      "metadata": {
        "colab": {
          "base_uri": "https://localhost:8080/"
        },
        "id": "n-dqP7x90EbV",
        "outputId": "4e7933b9-502b-4096-e027-6e06eb228c7d"
      },
      "execution_count": 174,
      "outputs": [
        {
          "output_type": "stream",
          "name": "stdout",
          "text": [
            "Yes it is Iceland in list ('Denmark', 'Finland', 'Iceland', 'Norway', 'Sweden')\n"
          ]
        }
      ]
    }
  ]
}