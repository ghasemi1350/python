{
  "nbformat": 4,
  "nbformat_minor": 0,
  "metadata": {
    "colab": {
      "provenance": []
    },
    "kernelspec": {
      "name": "python3",
      "display_name": "Python 3"
    },
    "language_info": {
      "name": "python"
    }
  },
  "cells": [
    {
      "cell_type": "markdown",
      "source": [
        "#**Exercises 10**\n",
        "\n",
        "**iteration and recursion**"
      ],
      "metadata": {
        "id": "51L9DyOg11ud"
      }
    },
    {
      "cell_type": "markdown",
      "source": [
        "**Exercise 1**\n",
        "\n",
        "Write a Python function to calculate first n numbers of Fibonacci sequence. (n is function input)\n",
        "\n",
        "Use recursion to solve the question!\n",
        "points:\n",
        "![image.png](data:image/png;base64,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)"
      ],
      "metadata": {
        "id": "DEB61zEa2O9V"
      }
    },
    {
      "cell_type": "code",
      "source": [
        "def recur_fibo(n):\n",
        "  if n<=1:\n",
        "   return(n)\n",
        "\n",
        "  else:\n",
        "    return(recur_fibo(n-1)+recur_fibo(n-2))"
      ],
      "metadata": {
        "id": "g__BCJpQ2m-d"
      },
      "execution_count": 10,
      "outputs": []
    },
    {
      "cell_type": "code",
      "source": [
        "fib_series=[]\n",
        "n=int(input())\n",
        "for i in range(n):\n",
        "  fib_series.append(recur_fibo(i))\n",
        "  \n",
        "print(fib_series)"
      ],
      "metadata": {
        "colab": {
          "base_uri": "https://localhost:8080/"
        },
        "id": "QlSpZLeZ4HJB",
        "outputId": "f0e3d92e-e7e5-4efc-af57-e81ac3b60c2f"
      },
      "execution_count": 16,
      "outputs": [
        {
          "output_type": "stream",
          "name": "stdout",
          "text": [
            "7\n",
            "[0, 1, 1, 2, 3, 5, 8]\n"
          ]
        }
      ]
    },
    {
      "cell_type": "code",
      "source": [],
      "metadata": {
        "id": "GWS4X4QW4OhZ"
      },
      "execution_count": null,
      "outputs": []
    }
  ]
}