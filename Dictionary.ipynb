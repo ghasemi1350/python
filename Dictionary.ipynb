{
  "nbformat": 4,
  "nbformat_minor": 0,
  "metadata": {
    "colab": {
      "provenance": []
    },
    "kernelspec": {
      "name": "python3",
      "display_name": "Python 3"
    },
    "language_info": {
      "name": "python"
    }
  },
  "cells": [
    {
      "cell_type": "markdown",
      "source": [
        "# **Exercises 06**\n",
        "***Dictionary***"
      ],
      "metadata": {
        "id": "vtmqIVJvuArF"
      }
    },
    {
      "cell_type": "markdown",
      "source": [
        "**Exercise 01**\n",
        "\n",
        "> Create an empty dictionary called dog\n",
        "\n",
        "> Add name, color, breed, legs, age to the dog dictionary "
      ],
      "metadata": {
        "id": "O7quCqIawvd2"
      }
    },
    {
      "cell_type": "code",
      "source": [
        "#Create an empty dictionary called dog\n",
        "dog={}"
      ],
      "metadata": {
        "id": "TnN49-ZZwual"
      },
      "execution_count": 1,
      "outputs": []
    },
    {
      "cell_type": "code",
      "source": [
        "#Add name, color, breed, legs, age to the dog dictionary\n",
        "dog['name']='Charlie'\n",
        "dog['color']='white'\n",
        "dog['breed']='Pomeranian'\n",
        "dog['legs']='short'\n",
        "dog['age']=3"
      ],
      "metadata": {
        "id": "obpJnsMjx8c1"
      },
      "execution_count": 2,
      "outputs": []
    },
    {
      "cell_type": "code",
      "source": [
        "dog"
      ],
      "metadata": {
        "colab": {
          "base_uri": "https://localhost:8080/"
        },
        "id": "0F1OGOHZzVKB",
        "outputId": "4027993d-8c4c-43a4-8302-0dd2a1cb5d03"
      },
      "execution_count": 3,
      "outputs": [
        {
          "output_type": "execute_result",
          "data": {
            "text/plain": [
              "{'name': 'Charlie',\n",
              " 'color': 'white',\n",
              " 'breed': 'Pomeranian',\n",
              " 'legs': 'short',\n",
              " 'age': 3}"
            ]
          },
          "metadata": {},
          "execution_count": 3
        }
      ]
    },
    {
      "cell_type": "markdown",
      "source": [
        "**Exercise 02**\n",
        "\n",
        "> Create a student dictionary and add first_name, last_name, gender, age, skills, country, city and address as keys for the dictionary\n",
        "\n",
        "> Get the length of the student dictionary\n",
        "\n",
        "> Get the value of skills and check the data type, it should be a list \n",
        "\n",
        "> Modify the skills values by adding one or two skills\n",
        "\n",
        "> Get the dictionary keys as a list\n",
        "\n",
        "> Get the dictionary values as a list\n",
        "\n",
        ">Change the dictionary to a list of tuples using items() method\n",
        "\n",
        "> Delete one of the items in the dictionary\n",
        "\n",
        "> Delete one of the dictionaries\n"
      ],
      "metadata": {
        "id": "BcmI6pog9_eA"
      }
    },
    {
      "cell_type": "code",
      "source": [
        "# Create a student dictionary and add first_name, last_name, gender, age, skills, country, city and address as keys for the dictionary\n",
        "student={}"
      ],
      "metadata": {
        "id": "ntmy-H4Mza_X"
      },
      "execution_count": 4,
      "outputs": []
    },
    {
      "cell_type": "code",
      "source": [
        "student['first_name']='Ali'\n",
        "student['last_name']= 'Ghassemi'\n",
        "student['gender']= 'Male'\n",
        "student['age']= 16\n",
        "student['skills']=['facilities','Electeric work','drawing']\n",
        "student['country']= 'Iran'\n",
        "student['city']='Theran'\n",
        "student['address']='Agricultural Complex, Phase 4, Andisheh'"
      ],
      "metadata": {
        "id": "zVBC1bY8AEAm"
      },
      "execution_count": 5,
      "outputs": []
    },
    {
      "cell_type": "code",
      "source": [
        "student"
      ],
      "metadata": {
        "colab": {
          "base_uri": "https://localhost:8080/"
        },
        "id": "0lavEGKc_A-k",
        "outputId": "e73b685e-16c5-4fbe-b443-6f3e99778a01"
      },
      "execution_count": 6,
      "outputs": [
        {
          "output_type": "execute_result",
          "data": {
            "text/plain": [
              "{'first_name': 'Ali',\n",
              " 'last_name': 'Ghassemi',\n",
              " 'gender': 'Male',\n",
              " 'age': 16,\n",
              " 'skills': ['facilities', 'Electeric work', 'drawing'],\n",
              " 'country': 'Iran',\n",
              " 'city': 'Theran',\n",
              " 'address': 'Agricultural Complex, Phase 4, Andisheh'}"
            ]
          },
          "metadata": {},
          "execution_count": 6
        }
      ]
    },
    {
      "cell_type": "code",
      "source": [
        "# Get the length of the student dictionary\n",
        "len(student)"
      ],
      "metadata": {
        "colab": {
          "base_uri": "https://localhost:8080/"
        },
        "id": "MgSh9YbY_Hmi",
        "outputId": "ee0fc68e-1790-48e2-a7f5-477c3aca9895"
      },
      "execution_count": 7,
      "outputs": [
        {
          "output_type": "execute_result",
          "data": {
            "text/plain": [
              "8"
            ]
          },
          "metadata": {},
          "execution_count": 7
        }
      ]
    },
    {
      "cell_type": "code",
      "source": [
        "# Get the value of skills and check the data type, it should be a list"
      ],
      "metadata": {
        "id": "kBGMYiIM_h7-"
      },
      "execution_count": 8,
      "outputs": []
    },
    {
      "cell_type": "code",
      "source": [
        "print(student['skills'])\n",
        "print()\n",
        "type(student['skills'])"
      ],
      "metadata": {
        "colab": {
          "base_uri": "https://localhost:8080/"
        },
        "id": "uBNkJhje_3ep",
        "outputId": "87f57709-bb18-4516-d263-f5a1da1ec0b0"
      },
      "execution_count": 9,
      "outputs": [
        {
          "output_type": "stream",
          "name": "stdout",
          "text": [
            "['facilities', 'Electeric work', 'drawing']\n",
            "\n"
          ]
        },
        {
          "output_type": "execute_result",
          "data": {
            "text/plain": [
              "list"
            ]
          },
          "metadata": {},
          "execution_count": 9
        }
      ]
    },
    {
      "cell_type": "code",
      "source": [
        "# Modify the skills values \n",
        "student['skills'][2]='Autocad'\n",
        "print('Modify to list=',student['skills'])\n",
        "print()\n",
        "# adding one or two skills\n",
        "student['skills'] += ['driving']\n",
        "print('Adding to list=',student['skills'])"
      ],
      "metadata": {
        "colab": {
          "base_uri": "https://localhost:8080/"
        },
        "id": "BMqpdfh2A2v8",
        "outputId": "753a7180-effe-4077-db1a-31d0109316e5"
      },
      "execution_count": 10,
      "outputs": [
        {
          "output_type": "stream",
          "name": "stdout",
          "text": [
            "Modify to list= ['facilities', 'Electeric work', 'Autocad']\n",
            "\n",
            "Adding to list= ['facilities', 'Electeric work', 'Autocad', 'driving']\n"
          ]
        }
      ]
    },
    {
      "cell_type": "code",
      "source": [
        "#Get the dictionary keys as a list\n",
        "student.keys()"
      ],
      "metadata": {
        "colab": {
          "base_uri": "https://localhost:8080/"
        },
        "id": "FqW1BrImCfYS",
        "outputId": "4817f286-a276-4c26-c9a9-3359dbe84014"
      },
      "execution_count": 11,
      "outputs": [
        {
          "output_type": "execute_result",
          "data": {
            "text/plain": [
              "dict_keys(['first_name', 'last_name', 'gender', 'age', 'skills', 'country', 'city', 'address'])"
            ]
          },
          "metadata": {},
          "execution_count": 11
        }
      ]
    },
    {
      "cell_type": "code",
      "source": [
        "#Get the dictionary values as a list\n",
        "student.values()"
      ],
      "metadata": {
        "colab": {
          "base_uri": "https://localhost:8080/"
        },
        "id": "GY9NSXr8cwa8",
        "outputId": "c3806cc9-bed3-4da7-e485-e6916ef9b1a9"
      },
      "execution_count": 12,
      "outputs": [
        {
          "output_type": "execute_result",
          "data": {
            "text/plain": [
              "dict_values(['Ali', 'Ghassemi', 'Male', 16, ['facilities', 'Electeric work', 'Autocad', 'driving'], 'Iran', 'Theran', 'Agricultural Complex, Phase 4, Andisheh'])"
            ]
          },
          "metadata": {},
          "execution_count": 12
        }
      ]
    },
    {
      "cell_type": "code",
      "source": [
        "#Change the dictionary to a list of tuples using items() method\n",
        "student_list=list(student.items())\n",
        "print(student_list)"
      ],
      "metadata": {
        "colab": {
          "base_uri": "https://localhost:8080/"
        },
        "id": "2ly4N8T9hvTb",
        "outputId": "bff0997d-4b6c-462e-f3f5-ee9846a4b4ae"
      },
      "execution_count": 13,
      "outputs": [
        {
          "output_type": "stream",
          "name": "stdout",
          "text": [
            "[('first_name', 'Ali'), ('last_name', 'Ghassemi'), ('gender', 'Male'), ('age', 16), ('skills', ['facilities', 'Electeric work', 'Autocad', 'driving']), ('country', 'Iran'), ('city', 'Theran'), ('address', 'Agricultural Complex, Phase 4, Andisheh')]\n"
          ]
        }
      ]
    },
    {
      "cell_type": "code",
      "source": [
        "#Delete one of the items in the dictionary\n",
        "del student['address']"
      ],
      "metadata": {
        "id": "yxUcmPc6iPuH"
      },
      "execution_count": 14,
      "outputs": []
    },
    {
      "cell_type": "code",
      "source": [
        "student"
      ],
      "metadata": {
        "colab": {
          "base_uri": "https://localhost:8080/"
        },
        "id": "9WwlcTOrjVwZ",
        "outputId": "6e9f03ed-ebb3-4de9-ffbf-d2184c907005"
      },
      "execution_count": 15,
      "outputs": [
        {
          "output_type": "execute_result",
          "data": {
            "text/plain": [
              "{'first_name': 'Ali',\n",
              " 'last_name': 'Ghassemi',\n",
              " 'gender': 'Male',\n",
              " 'age': 16,\n",
              " 'skills': ['facilities', 'Electeric work', 'Autocad', 'driving'],\n",
              " 'country': 'Iran',\n",
              " 'city': 'Theran'}"
            ]
          },
          "metadata": {},
          "execution_count": 15
        }
      ]
    },
    {
      "cell_type": "code",
      "source": [
        "#Delete one of the dictionaries\n",
        "del student"
      ],
      "metadata": {
        "id": "pBJRH141jYwf"
      },
      "execution_count": 16,
      "outputs": []
    },
    {
      "cell_type": "code",
      "source": [
        "student"
      ],
      "metadata": {
        "colab": {
          "base_uri": "https://localhost:8080/",
          "height": 171
        },
        "id": "Kd4IeU2zkhfY",
        "outputId": "8d33e69b-0f14-4cfd-e4cc-05fccb6bb250"
      },
      "execution_count": 17,
      "outputs": [
        {
          "output_type": "error",
          "ename": "NameError",
          "evalue": "ignored",
          "traceback": [
            "\u001b[0;31m---------------------------------------------------------------------------\u001b[0m",
            "\u001b[0;31mNameError\u001b[0m                                 Traceback (most recent call last)",
            "\u001b[0;32m<ipython-input-17-98eabfd95b2a>\u001b[0m in \u001b[0;36m<module>\u001b[0;34m\u001b[0m\n\u001b[0;32m----> 1\u001b[0;31m \u001b[0mstudent\u001b[0m\u001b[0;34m\u001b[0m\u001b[0;34m\u001b[0m\u001b[0m\n\u001b[0m",
            "\u001b[0;31mNameError\u001b[0m: name 'student' is not defined"
          ]
        }
      ]
    },
    {
      "cell_type": "code",
      "source": [],
      "metadata": {
        "id": "wqwOpCMwkj8n"
      },
      "execution_count": null,
      "outputs": []
    }
  ]
}