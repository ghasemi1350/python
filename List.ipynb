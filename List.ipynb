{
  "nbformat": 4,
  "nbformat_minor": 0,
  "metadata": {
    "colab": {
      "provenance": []
    },
    "kernelspec": {
      "name": "python3",
      "display_name": "Python 3"
    },
    "language_info": {
      "name": "python"
    }
  },
  "cells": [
    {
      "cell_type": "markdown",
      "source": [
        "# **Exercises 04**\n",
        "# ***list***\n"
      ],
      "metadata": {
        "id": "vjS80q1h-R9s"
      }
    },
    {
      "cell_type": "markdown",
      "source": [
        "**Exercise 01**\n",
        "**The following is a list of 10 students ages:**\n",
        "\n",
        "\n",
        "> Sort the list and find the min and max age.\n",
        "\n",
        ">Add the min age and the max age again to the list.\n",
        "\n",
        "> IFind the median age (one middle item or two middle items divided by two)\n",
        "\n",
        ">Find the average age (sum of all items divided by their number ).\n",
        "\n",
        "> Find the range of the ages (max minus min).\n",
        "\n",
        "> Compare the value of (min - average) and (max - average), use abs() method.\n"
      ],
      "metadata": {
        "id": "xWWY0dU4-2Kk"
      }
    },
    {
      "cell_type": "markdown",
      "source": [
        "*   Sort the list and find the min and max age.\n"
      ],
      "metadata": {
        "id": "VHSFRDJt0lJk"
      }
    },
    {
      "cell_type": "code",
      "source": [
        "ages = [19, 22, 19, 24, 20, 25, 26, 24, 25, 24]\n",
        "ages.sort()\n",
        "print('list sort {}'.format(ages))\n",
        "\n",
        "#Add the min age and the max age again to the list.\n",
        "import numpy as np\n",
        "max=np.max(ages)\n",
        "min=np.min(ages)\n",
        "\n",
        "print('Max list={}'.format(max))\n",
        "print('Min list={}'.format(min))\n"
      ],
      "metadata": {
        "colab": {
          "base_uri": "https://localhost:8080/"
        },
        "id": "WPUgeSz6BEJh",
        "outputId": "2bead24f-5525-4183-dd03-b3a3a27bf2d8"
      },
      "execution_count": 29,
      "outputs": [
        {
          "output_type": "stream",
          "name": "stdout",
          "text": [
            "list sort [19, 19, 20, 22, 24, 24, 24, 25, 25, 26]\n",
            "Max list=26\n",
            "Min list=19\n"
          ]
        }
      ]
    },
    {
      "cell_type": "code",
      "source": [
        "#max and min add to list\n",
        "ages.append(max)\n",
        "ages.append(min)\n",
        "print('after list add numbers =  {}'.format(ages))"
      ],
      "metadata": {
        "id": "ErqwBgqhBcqi",
        "colab": {
          "base_uri": "https://localhost:8080/"
        },
        "outputId": "39fb519d-1b23-4138-91c6-4286e51b2b9e"
      },
      "execution_count": 30,
      "outputs": [
        {
          "output_type": "stream",
          "name": "stdout",
          "text": [
            "after list add numbers =  [19, 19, 20, 22, 24, 24, 24, 25, 25, 26, 26, 19]\n"
          ]
        }
      ]
    },
    {
      "cell_type": "markdown",
      "source": [
        "\n",
        "*  IFind the median age (one middle item or two middle items divided by two)\n"
      ],
      "metadata": {
        "id": "ac7soLeC6q2b"
      }
    },
    {
      "cell_type": "code",
      "source": [
        "#create function middel\n",
        "def get_median(list_):\n",
        "  list_.sort()\n",
        "  n = len(list_)\n",
        "  m = n // 2\n",
        "  if n % 2 == 0:\n",
        "    return (list_[m - 1] + list_[m]) / 2\n",
        "  else:\n",
        "    return list_[m]"
      ],
      "metadata": {
        "id": "lZ0fVHJt5Bt9"
      },
      "execution_count": 31,
      "outputs": []
    },
    {
      "cell_type": "code",
      "source": [
        "mediel=get_median(ages)\n",
        "print('Median Ages in Class= {}'.format(mediel))"
      ],
      "metadata": {
        "colab": {
          "base_uri": "https://localhost:8080/"
        },
        "id": "KoptsQcQbOY0",
        "outputId": "34864d60-ec86-46a7-e47b-8ae000852708"
      },
      "execution_count": 32,
      "outputs": [
        {
          "output_type": "stream",
          "name": "stdout",
          "text": [
            "Median Ages in Class= 24.0\n"
          ]
        }
      ]
    },
    {
      "cell_type": "markdown",
      "source": [
        "\n",
        "*   Find the average age (sum of all items divided by their number ).\n"
      ],
      "metadata": {
        "id": "cVN9YZOe7ltn"
      }
    },
    {
      "cell_type": "code",
      "source": [
        "#create functon average\n",
        "def get_average(list_):\n",
        "  list_.sort()\n",
        "  sum_list=np.sum(list_)\n",
        "  average=sum_list/len(list_)\n",
        "  \n",
        "  return average\n",
        "\n"
      ],
      "metadata": {
        "id": "Q-qQoeJo64uK"
      },
      "execution_count": 33,
      "outputs": []
    },
    {
      "cell_type": "code",
      "source": [
        "average=get_average(ages)\n",
        "print('Average Ages in Class= {}'.format(average))"
      ],
      "metadata": {
        "colab": {
          "base_uri": "https://localhost:8080/"
        },
        "id": "wT3j6xfJCTTh",
        "outputId": "c60dc48b-1cfe-4ef3-e66a-9aa85dae7eb7"
      },
      "execution_count": 34,
      "outputs": [
        {
          "output_type": "stream",
          "name": "stdout",
          "text": [
            "Average Ages in Class= 22.75\n"
          ]
        }
      ]
    },
    {
      "cell_type": "markdown",
      "source": [
        "* Find the range of the ages (max minus min)."
      ],
      "metadata": {
        "id": "WEB2f4OPK1lk"
      }
    },
    {
      "cell_type": "code",
      "source": [
        "#create functon range\n",
        "def get_range(list_):\n",
        "  list_.sort()\n",
        "  max=np.max(list_)\n",
        "  min=np.min(list_)\n",
        "  rang=max-min\n",
        "  return rang"
      ],
      "metadata": {
        "id": "K_Ff4jGrCX9B"
      },
      "execution_count": 35,
      "outputs": []
    },
    {
      "cell_type": "code",
      "source": [
        "rang=get_range(ages)\n",
        "print('Rane Ages in Class={}'.format(rang))"
      ],
      "metadata": {
        "colab": {
          "base_uri": "https://localhost:8080/"
        },
        "id": "xMRjFiXyMbiz",
        "outputId": "69d995ba-2e3a-4977-98a3-e2389b947c3d"
      },
      "execution_count": 36,
      "outputs": [
        {
          "output_type": "stream",
          "name": "stdout",
          "text": [
            "Rane Ages in Class=7\n"
          ]
        }
      ]
    },
    {
      "cell_type": "markdown",
      "source": [
        "* Compare the value of (min - average) and (max - average), use abs() method\n",
        "\n"
      ],
      "metadata": {
        "id": "kI2klvdcQ2PC"
      }
    },
    {
      "cell_type": "code",
      "source": [
        "#define function compare the value\n",
        "def get_compare(average,max,min):\n",
        "   comper_min_avg=np.abs(min-average)\n",
        "   comper_max_ave=np.abs(max-average)\n",
        "   return comper_min_avg,comper_max_ave\n",
        "   "
      ],
      "metadata": {
        "id": "MeHf54ZqRBUo"
      },
      "execution_count": 37,
      "outputs": []
    },
    {
      "cell_type": "code",
      "source": [
        "get_compare(average,max,min)"
      ],
      "metadata": {
        "colab": {
          "base_uri": "https://localhost:8080/"
        },
        "id": "kIO5Qky9sPJL",
        "outputId": "11cb8cfb-8a29-40c0-a027-845e7635f74f"
      },
      "execution_count": 38,
      "outputs": [
        {
          "output_type": "execute_result",
          "data": {
            "text/plain": [
              "(3.75, 3.25)"
            ]
          },
          "metadata": {},
          "execution_count": 38
        }
      ]
    },
    {
      "cell_type": "code",
      "source": [],
      "metadata": {
        "id": "M-Lv9fALsvbB"
      },
      "execution_count": 22,
      "outputs": []
    }
  ]
}