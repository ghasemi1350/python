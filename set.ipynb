{
  "nbformat": 4,
  "nbformat_minor": 0,
  "metadata": {
    "colab": {
      "provenance": []
    },
    "kernelspec": {
      "name": "python3",
      "display_name": "Python 3"
    },
    "language_info": {
      "name": "python"
    }
  },
  "cells": [
    {
      "cell_type": "markdown",
      "source": [
        "# **Exercises 07**\n",
        "# set"
      ],
      "metadata": {
        "id": "W-KWCX9O6mgf"
      }
    },
    {
      "cell_type": "markdown",
      "source": [
        "**Exercise 01**\n",
        "\n",
        "\n",
        "> Find the length of the set it_companies\n",
        "\n",
        "> Add 'Twitter' to it_companie\n",
        "\n",
        "> Insert multiple IT companies at once to the set it_companies\n",
        "\n",
        "> Remove one of the companies from the set it_companies\n",
        "\n",
        "> What is the difference between remove and discard\n",
        "\n"
      ],
      "metadata": {
        "id": "nMKXicyZ8V9P"
      }
    },
    {
      "cell_type": "code",
      "source": [
        "# Find the length of the set it_companies\n",
        "it_companies = {'Facebook','Google','Microsoft','Apple','IBM','Oracle','Amazon'}\n",
        "\n",
        "print('Find the length of the set it_companies=',len(it_companies))"
      ],
      "metadata": {
        "colab": {
          "base_uri": "https://localhost:8080/"
        },
        "id": "J0zIuTJVq56e",
        "outputId": "ca25be3a-a1bb-4204-8088-29952f37bad1"
      },
      "execution_count": 26,
      "outputs": [
        {
          "output_type": "stream",
          "name": "stdout",
          "text": [
            "Find the length of the set it_companies= 7\n"
          ]
        }
      ]
    },
    {
      "cell_type": "code",
      "source": [
        "#  Add 'Twitter' to it_companie\n",
        "it_companies.add('Twitter')\n",
        "it_companies"
      ],
      "metadata": {
        "colab": {
          "base_uri": "https://localhost:8080/"
        },
        "id": "SIdML_C4rSEX",
        "outputId": "880239f4-1f00-4e90-8e77-75615e756619"
      },
      "execution_count": 27,
      "outputs": [
        {
          "output_type": "execute_result",
          "data": {
            "text/plain": [
              "{'Amazon',\n",
              " 'Apple',\n",
              " 'Facebook',\n",
              " 'Google',\n",
              " 'IBM',\n",
              " 'Microsoft',\n",
              " 'Oracle',\n",
              " 'Twitter'}"
            ]
          },
          "metadata": {},
          "execution_count": 27
        }
      ]
    },
    {
      "cell_type": "code",
      "source": [
        "# Insert multiple IT companies at once to the set it_companies\n",
        "it_companies.update(['windos','linux'])"
      ],
      "metadata": {
        "id": "3w2ANVHOs80l"
      },
      "execution_count": 28,
      "outputs": []
    },
    {
      "cell_type": "code",
      "source": [
        "it_companies"
      ],
      "metadata": {
        "colab": {
          "base_uri": "https://localhost:8080/"
        },
        "id": "qCXHOAbdwPr7",
        "outputId": "ee247958-faaa-47a6-fb65-41ada7ded792"
      },
      "execution_count": 29,
      "outputs": [
        {
          "output_type": "execute_result",
          "data": {
            "text/plain": [
              "{'Amazon',\n",
              " 'Apple',\n",
              " 'Facebook',\n",
              " 'Google',\n",
              " 'IBM',\n",
              " 'Microsoft',\n",
              " 'Oracle',\n",
              " 'Twitter',\n",
              " 'linux',\n",
              " 'windos'}"
            ]
          },
          "metadata": {},
          "execution_count": 29
        }
      ]
    },
    {
      "cell_type": "code",
      "source": [
        "#Remove one of the companies from the set it_companies\n",
        "it_companies.discard('Twitter')"
      ],
      "metadata": {
        "id": "qT8z_q6jwSGe"
      },
      "execution_count": 30,
      "outputs": []
    },
    {
      "cell_type": "code",
      "source": [
        "it_companies"
      ],
      "metadata": {
        "colab": {
          "base_uri": "https://localhost:8080/"
        },
        "id": "KQCIdtFvwyi-",
        "outputId": "54ee2268-c5fc-4882-f79d-8fc27c202592"
      },
      "execution_count": 31,
      "outputs": [
        {
          "output_type": "execute_result",
          "data": {
            "text/plain": [
              "{'Amazon',\n",
              " 'Apple',\n",
              " 'Facebook',\n",
              " 'Google',\n",
              " 'IBM',\n",
              " 'Microsoft',\n",
              " 'Oracle',\n",
              " 'linux',\n",
              " 'windos'}"
            ]
          },
          "metadata": {},
          "execution_count": 31
        }
      ]
    },
    {
      "cell_type": "markdown",
      "source": [
        "**What is the difference between remove and discard?**\n",
        " \n",
        "# in remove When deleting, if there is no item in it, it gives an error,but in discard it is not like this, if there is no item, it does not give an error, now it depends on the application, which one is used.\n"
      ],
      "metadata": {
        "id": "hs7eZABIxhZe"
      }
    },
    {
      "cell_type": "markdown",
      "source": [
        "**Exercise 02**\n",
        "\n",
        "Convert the ages to a set and compare the length of the list and the set, which one is bigger"
      ],
      "metadata": {
        "id": "LG7tRbzBEiuv"
      }
    },
    {
      "cell_type": "code",
      "source": [
        "age = [22, 19, 24, 25, 26, 24, 25, 24]"
      ],
      "metadata": {
        "id": "qU2xgzH7FEOP"
      },
      "execution_count": 32,
      "outputs": []
    },
    {
      "cell_type": "code",
      "source": [
        "#Convert the ages to a set\n",
        "age_set=set(age)\n",
        "age\n"
      ],
      "metadata": {
        "colab": {
          "base_uri": "https://localhost:8080/"
        },
        "id": "rQZYA6w_FFHE",
        "outputId": "3829846f-719f-4751-a715-2643ae6a0e61"
      },
      "execution_count": 39,
      "outputs": [
        {
          "output_type": "stream",
          "name": "stdout",
          "text": [
            "\n"
          ]
        },
        {
          "output_type": "execute_result",
          "data": {
            "text/plain": [
              "[22, 19, 24, 25, 26, 24, 25, 24]"
            ]
          },
          "metadata": {},
          "execution_count": 39
        }
      ]
    },
    {
      "cell_type": "code",
      "source": [
        "print(age_set)"
      ],
      "metadata": {
        "colab": {
          "base_uri": "https://localhost:8080/"
        },
        "id": "QW4GZo5EFQvW",
        "outputId": "32abc3c2-6d07-471e-a828-8965d16e814c"
      },
      "execution_count": 34,
      "outputs": [
        {
          "output_type": "stream",
          "name": "stdout",
          "text": [
            "{19, 22, 24, 25, 26}\n"
          ]
        }
      ]
    },
    {
      "cell_type": "code",
      "source": [
        "# compare the length of the list and the set, which one is bigger\n",
        "len_set=len(age_set)\n",
        "len_list=len(age)\n",
        "\n",
        "if len_set>len_list :\n",
        "      print('len set > len list')\n",
        "else :\n",
        "     print('len list>len set')"
      ],
      "metadata": {
        "colab": {
          "base_uri": "https://localhost:8080/"
        },
        "id": "SH_8R6vHFT_6",
        "outputId": "aac82ade-618a-4913-f8d6-7913f5433b9e"
      },
      "execution_count": 35,
      "outputs": [
        {
          "output_type": "stream",
          "name": "stdout",
          "text": [
            "len list>len set\n"
          ]
        }
      ]
    },
    {
      "cell_type": "markdown",
      "source": [
        "**Exercise 03**\n",
        "\n",
        "How many unique words have been used in the sentence?\n",
        "Use the split methods and set to get the unique words.\n",
        "\n",
        "#(I am a teacher and I love to inspire and teach people.)"
      ],
      "metadata": {
        "id": "vVeeAkPnIyrJ"
      }
    },
    {
      "cell_type": "code",
      "source": [
        "string='I am a teacher and I love to inspire and teach people.'\n",
        "\n",
        "unique_words =set(string.split())\n",
        "\n",
        "print(unique_words)\n",
        "print()\n",
        "print('Len sentence:',len(unique_words))"
      ],
      "metadata": {
        "colab": {
          "base_uri": "https://localhost:8080/"
        },
        "id": "oNejXXR7Fwus",
        "outputId": "7a7e95e3-f917-4c80-8f73-d6a1207d36c5"
      },
      "execution_count": 36,
      "outputs": [
        {
          "output_type": "stream",
          "name": "stdout",
          "text": [
            "{'I', 'am', 'teach', 'and', 'to', 'people.', 'love', 'a', 'teacher', 'inspire'}\n",
            "\n",
            "Len sentence: 10\n"
          ]
        }
      ]
    },
    {
      "cell_type": "code",
      "source": [],
      "metadata": {
        "id": "FUnFGW6CMWT0"
      },
      "execution_count": 36,
      "outputs": []
    }
  ]
}